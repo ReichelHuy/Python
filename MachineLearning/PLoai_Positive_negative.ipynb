{
 "cells": [
  {
   "cell_type": "code",
   "execution_count": 29,
   "metadata": {},
   "outputs": [],
   "source": [
    "import json\n",
    "import tensorflow as tf\n",
    "import tensorflow_datasets as tfds\n",
    "\n",
    "from keras.preprocessing.text import Tokenizer\n",
    "from keras.preprocessing.sequence import pad_sequences"
   ]
  },
  {
   "cell_type": "code",
   "execution_count": 30,
   "metadata": {},
   "outputs": [],
   "source": [
    "from keras.models import Sequential\n",
    "from keras.layers import Dense, Embedding, GlobalAveragePooling1D"
   ]
  },
  {
   "cell_type": "code",
   "execution_count": 31,
   "metadata": {},
   "outputs": [
    {
     "name": "stderr",
     "output_type": "stream",
     "text": [
      "WARNING:absl:TFDS datasets with text encoding are deprecated and will be removed in a future version. Instead, you should use the plain text version and tokenize the text using `tensorflow_text` (See: https://www.tensorflow.org/tutorials/tensorflow_text/intro#tfdata_example)\n"
     ]
    }
   ],
   "source": [
    "imdb, info = tfds.load(\"imdb_reviews/subwords8k\", with_info =True, as_supervised=True )\n",
    "train_data, test_data = imdb['train'], imdb['test']\n",
    "tokenizer = info.features['text'].encoder\n",
    "\n"
   ]
  },
  {
   "cell_type": "code",
   "execution_count": 32,
   "metadata": {},
   "outputs": [],
   "source": [
    "train_data = train_data.padded_batch(64, padded_shapes=([None], []))\n",
    "test_data = test_data.padded_batch(64, padded_shapes=([None], []))\n"
   ]
  },
  {
   "cell_type": "code",
   "execution_count": null,
   "metadata": {},
   "outputs": [],
   "source": [
    "\n",
    "for item in train_data:\n",
    "    print(item)"
   ]
  },
  {
   "cell_type": "code",
   "execution_count": 34,
   "metadata": {},
   "outputs": [],
   "source": [
    "model = Sequential()\n",
    "model.add(Embedding(tokenizer.vocab_size,64))\n",
    "model. add(GlobalAveragePooling1D())\n",
    "model .add(Dense(6, activation='relu'))\n",
    "model .add(Dense(1, activation='sigmoid'))"
   ]
  },
  {
   "cell_type": "code",
   "execution_count": 35,
   "metadata": {},
   "outputs": [
    {
     "name": "stdout",
     "output_type": "stream",
     "text": [
      "Model: \"sequential_2\"\n",
      "_________________________________________________________________\n",
      " Layer (type)                Output Shape              Param #   \n",
      "=================================================================\n",
      " embedding_2 (Embedding)     (None, None, 64)          523840    \n",
      "                                                                 \n",
      " global_average_pooling1d_2  (None, 64)                0         \n",
      "  (GlobalAveragePooling1D)                                       \n",
      "                                                                 \n",
      " dense_4 (Dense)             (None, 6)                 390       \n",
      "                                                                 \n",
      " dense_5 (Dense)             (None, 1)                 7         \n",
      "                                                                 \n",
      "=================================================================\n",
      "Total params: 524237 (2.00 MB)\n",
      "Trainable params: 524237 (2.00 MB)\n",
      "Non-trainable params: 0 (0.00 Byte)\n",
      "_________________________________________________________________\n"
     ]
    }
   ],
   "source": [
    "model.summary() "
   ]
  },
  {
   "cell_type": "code",
   "execution_count": 36,
   "metadata": {},
   "outputs": [
    {
     "name": "stdout",
     "output_type": "stream",
     "text": [
      "Epoch 1/10\n"
     ]
    },
    {
     "name": "stdout",
     "output_type": "stream",
     "text": [
      "391/391 [==============================] - 6s 15ms/step - loss: 0.6743 - accuracy: 0.6204 - val_loss: 0.6274 - val_accuracy: 0.6724\n",
      "Epoch 2/10\n",
      "391/391 [==============================] - 6s 15ms/step - loss: 0.5081 - accuracy: 0.7986 - val_loss: 0.4304 - val_accuracy: 0.8407\n",
      "Epoch 3/10\n",
      "391/391 [==============================] - 6s 14ms/step - loss: 0.3573 - accuracy: 0.8740 - val_loss: 0.3521 - val_accuracy: 0.8666\n",
      "Epoch 4/10\n",
      "391/391 [==============================] - 5s 14ms/step - loss: 0.2903 - accuracy: 0.8961 - val_loss: 0.3236 - val_accuracy: 0.8739\n",
      "Epoch 5/10\n",
      "391/391 [==============================] - 5s 14ms/step - loss: 0.2530 - accuracy: 0.9088 - val_loss: 0.3120 - val_accuracy: 0.8762\n",
      "Epoch 6/10\n",
      "391/391 [==============================] - 6s 15ms/step - loss: 0.2274 - accuracy: 0.9176 - val_loss: 0.3083 - val_accuracy: 0.8777\n",
      "Epoch 7/10\n",
      "391/391 [==============================] - 6s 14ms/step - loss: 0.2079 - accuracy: 0.9251 - val_loss: 0.3091 - val_accuracy: 0.8778\n",
      "Epoch 8/10\n",
      "391/391 [==============================] - 6s 14ms/step - loss: 0.1921 - accuracy: 0.9308 - val_loss: 0.3132 - val_accuracy: 0.8776\n",
      "Epoch 9/10\n",
      "391/391 [==============================] - 5s 14ms/step - loss: 0.1788 - accuracy: 0.9359 - val_loss: 0.3195 - val_accuracy: 0.8770\n",
      "Epoch 10/10\n",
      "391/391 [==============================] - 5s 14ms/step - loss: 0.1673 - accuracy: 0.9410 - val_loss: 0.3275 - val_accuracy: 0.8760\n"
     ]
    }
   ],
   "source": [
    "model.compile(loss='binary_crossentropy', optimizer='adam',metrics=['accuracy'])\n",
    "history = model.fit(train_data, epochs=10, validation_data= test_data)\n"
   ]
  },
  {
   "cell_type": "code",
   "execution_count": 37,
   "metadata": {},
   "outputs": [
    {
     "name": "stdout",
     "output_type": "stream",
     "text": [
      "1/1 [==============================] - 0s 41ms/step\n",
      "Lời nói là thật lòng\n"
     ]
    }
   ],
   "source": [
    "sentence = \"Vinh hate his girlfriend :))   \"\n",
    "input_data = tokenizer.encode(sentence)\n",
    "input_data = tf.expand_dims(input_data, 0) \n",
    "prediction = model.predict(input_data)[0][0]\n",
    "\n",
    "# In ra nhãn dự đoán\n",
    "if prediction > 0.5:\n",
    "    print(\"Lời nói là thật lòng\")\n",
    "else:\n",
    "    print(\"Nói điêu:\")"
   ]
  }
 ],
 "metadata": {
  "kernelspec": {
   "display_name": "Python 3",
   "language": "python",
   "name": "python3"
  },
  "language_info": {
   "codemirror_mode": {
    "name": "ipython",
    "version": 3
   },
   "file_extension": ".py",
   "mimetype": "text/x-python",
   "name": "python",
   "nbconvert_exporter": "python",
   "pygments_lexer": "ipython3",
   "version": "3.11.2"
  },
  "orig_nbformat": 4
 },
 "nbformat": 4,
 "nbformat_minor": 2
}
