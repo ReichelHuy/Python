{
 "cells": [
  {
   "cell_type": "code",
   "execution_count": 1,
   "metadata": {},
   "outputs": [],
   "source": [
    "import torch\n",
    "import json\n",
    "import csv\n",
    "import transformers\n",
    "import torch.nn as nn\n",
    "from transformers import RobertaForSequenceClassification, BertForSequenceClassification, RobertaConfig, BertConfig, RobertaTokenizer, BertTokenizer, get_linear_schedule_with_warmup\n",
    "from torch.utils.data import DataLoader, Dataset\n",
    "from sklearn.model_selection import train_test_split\n",
    "from sklearn.feature_extraction.text import TfidfVectorizer\n",
    "import pickle\n",
    "import pandas as pd\n",
    "import numpy as np\n",
    "from tqdm.auto import tqdm\n",
    "from collections import Counter\n",
    "import gensim.downloader as api\n",
    "from tqdm.auto import tqdm\n",
    "from rank_bm25 import *\n",
    "from pathlib import Path\n",
    "from sklearn.metrics.pairwise import cosine_similarity\n",
    "from gensim.parsing.preprocessing import preprocess_string, strip_tags, strip_non_alphanum, strip_multiple_whitespaces, remove_stopwords, stem_text\n",
    "import re\n",
    "import spacy\n",
    "import nltk"
   ]
  },
  {
   "cell_type": "code",
   "execution_count": null,
   "metadata": {},
   "outputs": [],
   "source": [
    "evidence_path = \"project-data/evidence.json\"\n",
    "with open(evidence_path) as evidence_file:\n",
    "    evidence_dict = json.load(evidence_file)\n",
    "\n",
    "evidence_df = pd.DataFrame.from_dict(evidence_dict, orient = \"index\")\n",
    "evidence_df.set_axis([\"evidence\"], axis = 1, inplace = True)\n",
    "\n",
    "evidence_df.reset_index(inplace = True)\n"
   ]
  }
 ],
 "metadata": {
  "kernelspec": {
   "display_name": "Python 3",
   "language": "python",
   "name": "python3"
  },
  "language_info": {
   "codemirror_mode": {
    "name": "ipython",
    "version": 3
   },
   "file_extension": ".py",
   "mimetype": "text/x-python",
   "name": "python",
   "nbconvert_exporter": "python",
   "pygments_lexer": "ipython3",
   "version": "3.11.2"
  },
  "orig_nbformat": 4
 },
 "nbformat": 4,
 "nbformat_minor": 2
}
